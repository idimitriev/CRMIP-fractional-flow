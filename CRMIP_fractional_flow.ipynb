{
  "nbformat": 4,
  "nbformat_minor": 0,
  "metadata": {
    "colab": {
      "name": "CRMIP_fractional_flow.ipynb",
      "provenance": [],
      "authorship_tag": "ABX9TyONVMbAt9LjjQwD4Dg7Sbf1"
    },
    "kernelspec": {
      "name": "python3",
      "display_name": "Python 3"
    },
    "language_info": {
      "name": "python"
    }
  },
  "cells": [
    {
      "cell_type": "markdown",
      "metadata": {
        "id": "JuorXHkRbK9J"
      },
      "source": [
        "### Дано:\n",
        "$q_j^t$ - дебит жидкости $j$-ой добывающей скважины на шаге $t$, $q_j^t = \\sum_i{q_{ij}^t}$   \n",
        "$q_{ij}^t$ - вклад $i$-ой нагнетатетльной скважины в дебит жидкости $j$-ой добывающей на шаге t, известны по результатам адаптации модели CRMIP  \n",
        "$q_{o_j}^t$ - дебит нефти $j$-ой добывающей скважины на шаге $t$"
      ]
    },
    {
      "cell_type": "markdown",
      "metadata": {
        "id": "xkLw_cdVfxpD"
      },
      "source": [
        "### Найти:\n",
        "$f_{o_{ij}}^t$ - доля нефти в добыче жидкости от $i$-ой нагнетательной скважине по $j$-ой добывающей скважине  \n",
        "\n",
        "\n"
      ]
    },
    {
      "cell_type": "markdown",
      "metadata": {
        "id": "M4HXOIgjjxsN"
      },
      "source": [
        "### Математическая формулировка:\n",
        "$$\\underset{f_{o_{ij}}^t}{\\operatorname{argmin}}\\sum_t{|\\sum_i{(q_{ij}^t*f_{o_{ij}}^t)} - q_{o_j}^t|}\\ -\\ ?$$\n",
        "$$0 <= f_{o_{ij}}^t <= 1$$  \n",
        "$$f_{o_{ij}} - невозрастающие\\ функции$$"
      ]
    },
    {
      "cell_type": "markdown",
      "metadata": {
        "id": "fLKqap-2Am87"
      },
      "source": [
        "## Использование характеристики вытеснения $ВНФ = a*e^{b*Q_O}$"
      ]
    },
    {
      "cell_type": "markdown",
      "metadata": {
        "id": "_7QeBGJc9MI7"
      },
      "source": [
        "$$WOR = a*\\exp(b*Q_O)$$\n",
        "\n",
        "$$q_{O_{ij}}^t \\approx \\frac{q_{L_{ij}}^t}{1+a_{ij}*\\exp(b_{ij}*Q_{O_{ij}}^t)}$$  \n",
        "\n",
        "$$\\underset{a_{ij},b_{ij}}{\\operatorname{argmin}}\\sum_t|\\sum_i\\frac{q_{L_{ij}}^t}{1+a_{ij}*\\exp(b_{ij}*Q_{O_{ij}}^t)} - q_{O_{j}}^t|$$"
      ]
    }
  ]
}