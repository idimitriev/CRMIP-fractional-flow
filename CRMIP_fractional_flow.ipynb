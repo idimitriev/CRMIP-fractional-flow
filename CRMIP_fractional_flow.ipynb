{
  "nbformat": 4,
  "nbformat_minor": 0,
  "metadata": {
    "colab": {
      "name": "CRMIP_fractional_flow.ipynb",
      "provenance": [],
      "authorship_tag": "ABX9TyMAGK6APoER5q57VE1pHnFh"
    },
    "kernelspec": {
      "name": "python3",
      "display_name": "Python 3"
    },
    "language_info": {
      "name": "python"
    }
  },
  "cells": [
    {
      "cell_type": "markdown",
      "metadata": {
        "id": "JuorXHkRbK9J"
      },
      "source": [
        "### Дано:\n",
        "$q_j^t$ - дебит жидкости $j$-ой добывающей скважины на шаге $t$, $q_j^t = \\sum_i{q_{ij}^t}$   \n",
        "$q_{ij}^t$ - вклад $i$-ой нагнетатетльной скважины в дебит жидкости $j$-ой добывающей на шаге t, известны по результатам адаптации модели CRMIP  \n",
        "$q_{o_j}^t$ - дебит нефти $j$-ой добывающей скважины на шаге $t$"
      ]
    },
    {
      "cell_type": "markdown",
      "metadata": {
        "id": "xkLw_cdVfxpD"
      },
      "source": [
        "### Найти:\n",
        "$f_{ij}^t$ - доля нефти в добыче жидкости от $i$-ой нагнетательной скважине по $j$-ой добывающей скважине  \n",
        "\n",
        "\n"
      ]
    },
    {
      "cell_type": "markdown",
      "metadata": {
        "id": "M4HXOIgjjxsN"
      },
      "source": [
        "### Математическая формулировка:\n",
        "$$\\underset{f_{ij}^t}{\\operatorname{argmin}}\\sum_t{|\\sum_i{(q_{ij}^t*f_{ij}^t)} - q_{o_j}^t|}\\ -\\ ?$$\n",
        "$$0 <= f_{ij}^t <= 1$$  \n",
        "$$f_{ij} - невозрастающие\\ функции$$"
      ]
    }
  ]
}